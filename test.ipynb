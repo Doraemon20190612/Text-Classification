{
 "cells": [
  {
   "cell_type": "code",
   "execution_count": 8,
   "id": "b74f0e82-b52f-4206-ac39-c130d67ff6fa",
   "metadata": {},
   "outputs": [],
   "source": [
    "import os\n",
    "import sys\n",
    "sys.path.append(os.path.abspath(os.path.join(os.getcwd(),\"..\")))\n",
    "from TextClassification import Augment\n",
    "from TextClassification import TextPreprocess\n",
    "from TextClassification import ExtractKeyword\n",
    "from TextClassification import TextVector\n",
    "from TextClassification import FeatureDimensionReduce\n",
    "from TextClassification import FeatureCode\n",
    "from TextClassification import ModelPreparation\n",
    "from TextClassification import Classifier\n",
    "from TextClassification import Successor\n",
    "import pandas as pd \n",
    "import numpy as np\n",
    "from sklearn import preprocessing\n",
    "import json\n",
    "from fastcore.transform import Pipeline"
   ]
  },
  {
   "cell_type": "markdown",
   "id": "fee7b7a2-0c5a-4721-a9db-f7d52106754c",
   "metadata": {},
   "source": [
    "# 数据准备"
   ]
  },
  {
   "cell_type": "code",
   "execution_count": 9,
   "id": "150837a1-94ef-41a0-bf57-5a1be5cbe9e4",
   "metadata": {},
   "outputs": [],
   "source": [
    "data = pd.read_csv(os.getcwd()+'/data/训练集.csv')[:1000]\n",
    "data['feature'] = data['评论标题'].map(str)+data['评论内容'].map(str)\n",
    "data_feature = data['feature']\n",
    "\n",
    "data_predict_origin = pd.read_csv(os.getcwd()+'/data/测试集.csv')[:1000]\n",
    "data_predict_origin['feature'] = data_predict_origin['评论标题'].map(str)+data_predict_origin['评论内容'].map(str)\n",
    "data_predict_feature = data_predict_origin['feature']"
   ]
  },
  {
   "cell_type": "code",
   "execution_count": 10,
   "id": "40f4da67-ed1e-484e-8c97-1e2bafadcf0d",
   "metadata": {},
   "outputs": [
    {
     "name": "stdout",
     "output_type": "stream",
     "text": [
      "label对应关系: {4.0: 3, 5.0: 4, 1.0: 0, 3.0: 2, 2.0: 1}\n"
     ]
    }
   ],
   "source": [
    "# 加载label_array\n",
    "data['label'] = preprocessing.LabelEncoder().fit_transform(data['评分'])\n",
    "label_array = np.array(data['label'])\n",
    "# label与类别的映射关系\n",
    "label_map = dict(zip(data['评分'].unique(),preprocessing.LabelEncoder().fit_transform(data['评分'].unique())))\n",
    "print('label对应关系:',label_map)"
   ]
  },
  {
   "cell_type": "code",
   "execution_count": 11,
   "id": "af4e02ad-80e6-4db5-895b-8e3bc3e7397b",
   "metadata": {},
   "outputs": [],
   "source": [
    "stopwords_cy = list(pd.read_csv(os.getcwd()+'/data/define_stopwords.txt',names = ['word'], \n",
    "                                sep = 'aaa',encoding = 'UTF-8',engine='python').word)"
   ]
  },
  {
   "cell_type": "code",
   "execution_count": 12,
   "id": "cb96f148-5971-41e4-a56e-e3ec2ac17312",
   "metadata": {},
   "outputs": [],
   "source": [
    "parameter_file = open(os.getcwd()+'/data/parameter.json', \"rb\")\n",
    "parameter_json = json.load(parameter_file) "
   ]
  },
  {
   "cell_type": "code",
   "execution_count": 13,
   "id": "f938c8d4-d314-4a04-a5a4-f5747b4e10cc",
   "metadata": {},
   "outputs": [],
   "source": [
    "# 构建input_data\n",
    "input_data = {}\n",
    "input_data['data_feature'] = data_feature\n",
    "input_data['stop_words'] = stopwords_cy\n",
    "input_data['label_array'] = label_array\n",
    "input_data['aug_mark'] = np.array([0 for i in range(len(label_array))])\n",
    "input_data['parameter'] = parameter_json\n",
    "input_data['data_predict_feature'] = data_predict_feature"
   ]
  },
  {
   "cell_type": "markdown",
   "id": "c9367ec2-7851-4295-a704-d2b686b6b1d6",
   "metadata": {},
   "source": [
    "# pipeline"
   ]
  },
  {
   "cell_type": "code",
   "execution_count": 15,
   "id": "995eb6a3-9db0-4fa0-b5c3-759d20fea1b7",
   "metadata": {
    "tags": []
   },
   "outputs": [
    {
     "name": "stderr",
     "output_type": "stream",
     "text": [
      "2022-07-17 18:37:07,105 : INFO : 文体转换已完成\n",
      "100%|██████████| 1000/1000 [00:00<00:00, 1006.19it/s]\n",
      "100%|██████████| 1000/1000 [00:00<00:00, 823866.43it/s]\n",
      "100%|██████████| 1000/1000 [00:00<00:00, 1100.99it/s]\n",
      "100%|██████████| 1000/1000 [00:00<00:00, 565651.25it/s]\n",
      "2022-07-17 18:37:09,030 : INFO : jieba分词已完成\n",
      "100%|██████████| 1000/1000 [00:00<00:00, 56031.63it/s]\n",
      "100%|██████████| 1000/1000 [00:00<00:00, 45922.70it/s]\n",
      "2022-07-17 18:37:09,076 : INFO : 特定字符过滤已完成\n",
      "2022-07-17 18:37:09,126 : INFO : onehot已完成\n",
      "2022-07-17 18:37:13,164 : INFO : 数据拆分已完成\n"
     ]
    },
    {
     "name": "stdout",
     "output_type": "stream",
     "text": [
      "Epoch 1/10\n",
      "19/19 [==============================] - 8s 357ms/step - loss: 1.6034 - sparse_categorical_accuracy: 0.3919 - val_loss: 1.6709 - val_sparse_categorical_accuracy: 0.5050\n",
      "Epoch 2/10\n",
      "19/19 [==============================] - 5s 253ms/step - loss: 1.1342 - sparse_categorical_accuracy: 0.6070 - val_loss: 2.1702 - val_sparse_categorical_accuracy: 0.5050\n",
      "Epoch 3/10\n",
      "19/19 [==============================] - 5s 268ms/step - loss: 0.5497 - sparse_categorical_accuracy: 0.8219 - val_loss: 1.4067 - val_sparse_categorical_accuracy: 0.5050\n",
      "Epoch 4/10\n",
      "19/19 [==============================] - 5s 269ms/step - loss: 0.1982 - sparse_categorical_accuracy: 0.9555 - val_loss: 1.4489 - val_sparse_categorical_accuracy: 0.5050\n",
      "Epoch 5/10\n",
      "19/19 [==============================] - 5s 273ms/step - loss: 0.0948 - sparse_categorical_accuracy: 0.9889 - val_loss: 1.4274 - val_sparse_categorical_accuracy: 0.5050\n",
      "Epoch 6/10\n",
      "19/19 [==============================] - 5s 270ms/step - loss: 0.0574 - sparse_categorical_accuracy: 0.9850 - val_loss: 1.8318 - val_sparse_categorical_accuracy: 0.5050\n",
      "Epoch 7/10\n",
      "19/19 [==============================] - 5s 262ms/step - loss: 0.0407 - sparse_categorical_accuracy: 0.9913 - val_loss: 1.7664 - val_sparse_categorical_accuracy: 0.5050\n",
      "Epoch 8/10\n",
      "19/19 [==============================] - 5s 264ms/step - loss: 0.0344 - sparse_categorical_accuracy: 0.9912 - val_loss: 1.4418 - val_sparse_categorical_accuracy: 0.5050\n",
      "Epoch 9/10\n",
      "19/19 [==============================] - 5s 271ms/step - loss: 0.0143 - sparse_categorical_accuracy: 0.9961 - val_loss: 1.4710 - val_sparse_categorical_accuracy: 0.5050\n",
      "Epoch 10/10\n",
      "19/19 [==============================] - 5s 267ms/step - loss: 0.0293 - sparse_categorical_accuracy: 0.9878 - val_loss: 1.5463 - val_sparse_categorical_accuracy: 0.5050\n",
      "Model: \"text_inception\"\n",
      "_________________________________________________________________\n",
      "Layer (type)                 Output Shape              Param #   \n",
      "=================================================================\n",
      "embedding (Embedding)        (None, 289, 100)          721200    \n",
      "_________________________________________________________________\n",
      "conv1d (Conv1D)              (None, 289, 128)          12928     \n",
      "_________________________________________________________________\n",
      "sequential (Sequential)      (None, 289, 128)          125312    \n",
      "_________________________________________________________________\n",
      "sequential_1 (Sequential)    (None, 289, 128)          242048    \n",
      "_________________________________________________________________\n",
      "conv1d_5 (Conv1D)            (None, 289, 128)          38528     \n",
      "_________________________________________________________________\n",
      "sequential_2 (Sequential)    (None, 128)               18940544  \n",
      "_________________________________________________________________\n",
      "dense_1 (Dense)              (None, 5)                 645       \n",
      "=================================================================\n",
      "Total params: 20,081,205\n",
      "Trainable params: 20,079,925\n",
      "Non-trainable params: 1,280\n",
      "_________________________________________________________________\n"
     ]
    }
   ],
   "source": [
    "pip = Pipeline([TextPreprocess.typeface_transform.char_converter,\n",
    "                TextPreprocess.cut_word.jieba_cut,\n",
    "                TextPreprocess.chartype_filter.number_filter,\n",
    "                TextVector.traditional_vector.one_hot_keras,\n",
    "                ModelPreparation.dataset_partition.split_train_test,\n",
    "                Classifier.deep_learning.train.text_inception])\n",
    "pip_output = pip(input_data.copy())"
   ]
  },
  {
   "cell_type": "code",
   "execution_count": 31,
   "id": "f23c8ab6-84ca-4347-8a7b-9290f96d134f",
   "metadata": {},
   "outputs": [
    {
     "name": "stderr",
     "output_type": "stream",
     "text": [
      "100%|██████████| 1/1 [00:07<00:00,  7.15s/it]\n"
     ]
    }
   ],
   "source": [
    "pip_outputs = [pip_output]\n",
    "evaluation = Successor.ModelEvaluation(f1_score='micro')\n",
    "evaluation_result = evaluation.run(pip_outputs)"
   ]
  },
  {
   "cell_type": "code",
   "execution_count": 32,
   "id": "52012f71-973a-45ae-9aa0-0664ab73fb1a",
   "metadata": {},
   "outputs": [],
   "source": [
    "prediction = Successor.ModelPredict(return_type='class')\n",
    "prediction_result = prediction.run(pip_output['clf_model'], pip_output['docvec_predict_array'])"
   ]
  },
  {
   "cell_type": "code",
   "execution_count": 20,
   "id": "6978f779-6cc7-4ad6-bb72-52c65af1a19f",
   "metadata": {},
   "outputs": [
    {
     "name": "stdout",
     "output_type": "stream",
     "text": [
      "pkl模型保存方案失败,已切换为keras模型保存方案\n"
     ]
    },
    {
     "name": "stderr",
     "output_type": "stream",
     "text": [
      "2022-01-24 00:24:51,200 : INFO : Assets written to: /Users/niejikai/Desktop/垃圾文件//rcnn/assets\n"
     ]
    },
    {
     "name": "stdout",
     "output_type": "stream",
     "text": [
      "模型已保存在/Users/niejikai/Desktop/垃圾文件//rcnn/\n"
     ]
    }
   ],
   "source": [
    "save = Successor.ModelSave(save_path = os.getcwd()+'/save',name = 'rcnn')\n",
    "save.run(pip_output['clf_model'])"
   ]
  },
  {
   "cell_type": "code",
   "execution_count": null,
   "id": "35703045-2926-4d5b-996c-8eeccd4de5ac",
   "metadata": {},
   "outputs": [],
   "source": []
  }
 ],
 "metadata": {
  "kernelspec": {
   "display_name": "Python 3",
   "language": "python",
   "name": "python3"
  },
  "language_info": {
   "codemirror_mode": {
    "name": "ipython",
    "version": 3
   },
   "file_extension": ".py",
   "mimetype": "text/x-python",
   "name": "python",
   "nbconvert_exporter": "python",
   "pygments_lexer": "ipython3",
   "version": "3.6.8"
  }
 },
 "nbformat": 4,
 "nbformat_minor": 5
}
